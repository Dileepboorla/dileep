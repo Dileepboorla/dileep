{
  "nbformat": 4,
  "nbformat_minor": 0,
  "metadata": {
    "colab": {
      "name": "number guess game",
      "provenance": [],
      "toc_visible": true,
      "authorship_tag": "ABX9TyNs11l3HO/9M7OIuINm5w+p",
      "include_colab_link": true
    },
    "kernelspec": {
      "name": "python3",
      "display_name": "Python 3"
    },
    "language_info": {
      "name": "python"
    }
  },
  "cells": [
    {
      "cell_type": "markdown",
      "metadata": {
        "id": "view-in-github",
        "colab_type": "text"
      },
      "source": [
        "<a href=\"https://colab.research.google.com/github/Dileepboorla/dileep/blob/main/number_guess_game.ipynb\" target=\"_parent\"><img src=\"https://colab.research.google.com/assets/colab-badge.svg\" alt=\"Open In Colab\"/></a>"
      ]
    },
    {
      "cell_type": "code",
      "execution_count": 3,
      "metadata": {
        "colab": {
          "base_uri": "https://localhost:8080/"
        },
        "id": "2gPMZv2S2lL9",
        "outputId": "e8157831-41a1-49c1-dc17-c1cbc813e7ac"
      },
      "outputs": [
        {
          "output_type": "stream",
          "name": "stdout",
          "text": [
            "enter a minimum number 1\n",
            "enter upper number50\n",
            "enter a guessing number43\n",
            "guess number is greatee than random number\n",
            "the guess number is =  34\n"
          ]
        }
      ],
      "source": [
        "import random\n",
        "lower=int(input(\"enter a minimum number \"))\n",
        "upper=int(input(\"enter upper number\"))\n",
        "\n",
        "\n",
        "x = random.randint(lower, upper)\n",
        "\n",
        "a=int(input(\"enter a guessing number\"))\n",
        "\n",
        "if(a==x):\n",
        "  print(\"guess number is equal to random number\")\n",
        "elif(a<x):\n",
        "  print(\"guess number is less than random number\")\n",
        "elif(a>x):\n",
        "  print(\"guess number is greatee than random number\")\n",
        "\n",
        "\n",
        "print(\"the guess number is = \",x)"
      ]
    }
  ]
}